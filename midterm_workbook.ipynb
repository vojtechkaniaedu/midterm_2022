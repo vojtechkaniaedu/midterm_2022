{
 "cells": [
  {
   "cell_type": "markdown",
   "metadata": {},
   "source": [
    "PART 1"
   ]
  },
  {
   "cell_type": "code",
   "execution_count": 2,
   "metadata": {},
   "outputs": [],
   "source": [
    "import pandas as pd\n",
    "import numpy as np"
   ]
  },
  {
   "cell_type": "code",
   "execution_count": 5,
   "metadata": {},
   "outputs": [
    {
     "data": {
      "text/html": [
       "<div>\n",
       "<style scoped>\n",
       "    .dataframe tbody tr th:only-of-type {\n",
       "        vertical-align: middle;\n",
       "    }\n",
       "\n",
       "    .dataframe tbody tr th {\n",
       "        vertical-align: top;\n",
       "    }\n",
       "\n",
       "    .dataframe thead th {\n",
       "        text-align: right;\n",
       "    }\n",
       "</style>\n",
       "<table border=\"1\" class=\"dataframe\">\n",
       "  <thead>\n",
       "    <tr style=\"text-align: right;\">\n",
       "      <th></th>\n",
       "      <th>Date</th>\n",
       "      <th>High</th>\n",
       "      <th>Low</th>\n",
       "      <th>Open</th>\n",
       "      <th>Close</th>\n",
       "      <th>Volume</th>\n",
       "      <th>Adj Close</th>\n",
       "    </tr>\n",
       "  </thead>\n",
       "  <tbody>\n",
       "    <tr>\n",
       "      <th>0</th>\n",
       "      <td>2017-11-13</td>\n",
       "      <td>10.84</td>\n",
       "      <td>10.44</td>\n",
       "      <td>10.66</td>\n",
       "      <td>10.82</td>\n",
       "      <td>8512700.0</td>\n",
       "      <td>9.232483</td>\n",
       "    </tr>\n",
       "    <tr>\n",
       "      <th>1</th>\n",
       "      <td>2017-11-14</td>\n",
       "      <td>10.97</td>\n",
       "      <td>10.74</td>\n",
       "      <td>10.84</td>\n",
       "      <td>10.84</td>\n",
       "      <td>9935600.0</td>\n",
       "      <td>9.249549</td>\n",
       "    </tr>\n",
       "    <tr>\n",
       "      <th>2</th>\n",
       "      <td>2017-11-15</td>\n",
       "      <td>10.90</td>\n",
       "      <td>10.78</td>\n",
       "      <td>10.81</td>\n",
       "      <td>10.87</td>\n",
       "      <td>6803000.0</td>\n",
       "      <td>9.275147</td>\n",
       "    </tr>\n",
       "    <tr>\n",
       "      <th>3</th>\n",
       "      <td>2017-11-16</td>\n",
       "      <td>10.92</td>\n",
       "      <td>10.73</td>\n",
       "      <td>10.91</td>\n",
       "      <td>10.77</td>\n",
       "      <td>5917000.0</td>\n",
       "      <td>9.189818</td>\n",
       "    </tr>\n",
       "    <tr>\n",
       "      <th>4</th>\n",
       "      <td>2017-11-17</td>\n",
       "      <td>10.79</td>\n",
       "      <td>10.60</td>\n",
       "      <td>10.77</td>\n",
       "      <td>10.61</td>\n",
       "      <td>7575000.0</td>\n",
       "      <td>9.053296</td>\n",
       "    </tr>\n",
       "  </tbody>\n",
       "</table>\n",
       "</div>"
      ],
      "text/plain": [
       "         Date   High    Low   Open  Close     Volume  Adj Close\n",
       "0  2017-11-13  10.84  10.44  10.66  10.82  8512700.0   9.232483\n",
       "1  2017-11-14  10.97  10.74  10.84  10.84  9935600.0   9.249549\n",
       "2  2017-11-15  10.90  10.78  10.81  10.87  6803000.0   9.275147\n",
       "3  2017-11-16  10.92  10.73  10.91  10.77  5917000.0   9.189818\n",
       "4  2017-11-17  10.79  10.60  10.77  10.61  7575000.0   9.053296"
      ]
     },
     "execution_count": 5,
     "metadata": {},
     "output_type": "execute_result"
    }
   ],
   "source": [
    "aes=pd.read_csv(\"AES.csv\")\n",
    "aes.head()"
   ]
  },
  {
   "cell_type": "code",
   "execution_count": 12,
   "metadata": {},
   "outputs": [
    {
     "data": {
      "text/plain": [
       "(1259, 7)"
      ]
     },
     "execution_count": 12,
     "metadata": {},
     "output_type": "execute_result"
    }
   ],
   "source": [
    "aes.shape"
   ]
  },
  {
   "cell_type": "code",
   "execution_count": 11,
   "metadata": {},
   "outputs": [
    {
     "data": {
      "text/html": [
       "<div>\n",
       "<style scoped>\n",
       "    .dataframe tbody tr th:only-of-type {\n",
       "        vertical-align: middle;\n",
       "    }\n",
       "\n",
       "    .dataframe tbody tr th {\n",
       "        vertical-align: top;\n",
       "    }\n",
       "\n",
       "    .dataframe thead th {\n",
       "        text-align: right;\n",
       "    }\n",
       "</style>\n",
       "<table border=\"1\" class=\"dataframe\">\n",
       "  <thead>\n",
       "    <tr style=\"text-align: right;\">\n",
       "      <th></th>\n",
       "      <th>Date</th>\n",
       "      <th>High</th>\n",
       "      <th>Low</th>\n",
       "      <th>Open</th>\n",
       "      <th>Close</th>\n",
       "      <th>Volume</th>\n",
       "      <th>Adj Close</th>\n",
       "    </tr>\n",
       "  </thead>\n",
       "  <tbody>\n",
       "    <tr>\n",
       "      <th>0</th>\n",
       "      <td>2017-11-13</td>\n",
       "      <td>44.689999</td>\n",
       "      <td>43.830002</td>\n",
       "      <td>43.830002</td>\n",
       "      <td>44.669998</td>\n",
       "      <td>1644500</td>\n",
       "      <td>44.669998</td>\n",
       "    </tr>\n",
       "    <tr>\n",
       "      <th>1</th>\n",
       "      <td>2017-11-14</td>\n",
       "      <td>44.830002</td>\n",
       "      <td>44.360001</td>\n",
       "      <td>44.520000</td>\n",
       "      <td>44.770000</td>\n",
       "      <td>2674700</td>\n",
       "      <td>44.770000</td>\n",
       "    </tr>\n",
       "    <tr>\n",
       "      <th>2</th>\n",
       "      <td>2017-11-15</td>\n",
       "      <td>44.669998</td>\n",
       "      <td>44.009998</td>\n",
       "      <td>44.520000</td>\n",
       "      <td>44.320000</td>\n",
       "      <td>1728600</td>\n",
       "      <td>44.320000</td>\n",
       "    </tr>\n",
       "    <tr>\n",
       "      <th>3</th>\n",
       "      <td>2017-11-16</td>\n",
       "      <td>45.389999</td>\n",
       "      <td>44.419998</td>\n",
       "      <td>44.570000</td>\n",
       "      <td>44.860001</td>\n",
       "      <td>3005200</td>\n",
       "      <td>44.860001</td>\n",
       "    </tr>\n",
       "    <tr>\n",
       "      <th>4</th>\n",
       "      <td>2017-11-17</td>\n",
       "      <td>45.099998</td>\n",
       "      <td>44.410000</td>\n",
       "      <td>44.869999</td>\n",
       "      <td>44.580002</td>\n",
       "      <td>1813600</td>\n",
       "      <td>44.580002</td>\n",
       "    </tr>\n",
       "  </tbody>\n",
       "</table>\n",
       "</div>"
      ],
      "text/plain": [
       "         Date       High        Low       Open      Close   Volume  Adj Close\n",
       "0  2017-11-13  44.689999  43.830002  43.830002  44.669998  1644500  44.669998\n",
       "1  2017-11-14  44.830002  44.360001  44.520000  44.770000  2674700  44.770000\n",
       "2  2017-11-15  44.669998  44.009998  44.520000  44.320000  1728600  44.320000\n",
       "3  2017-11-16  45.389999  44.419998  44.570000  44.860001  3005200  44.860001\n",
       "4  2017-11-17  45.099998  44.410000  44.869999  44.580002  1813600  44.580002"
      ]
     },
     "execution_count": 11,
     "metadata": {},
     "output_type": "execute_result"
    }
   ],
   "source": [
    "cdns=pd.read_csv(\"CDNS.csv\")\n",
    "cdns.head()"
   ]
  },
  {
   "cell_type": "code",
   "execution_count": 13,
   "metadata": {},
   "outputs": [
    {
     "data": {
      "text/plain": [
       "(1259, 7)"
      ]
     },
     "execution_count": 13,
     "metadata": {},
     "output_type": "execute_result"
    }
   ],
   "source": [
    "cdns.shape"
   ]
  },
  {
   "cell_type": "code",
   "execution_count": 7,
   "metadata": {},
   "outputs": [
    {
     "data": {
      "text/html": [
       "<div>\n",
       "<style scoped>\n",
       "    .dataframe tbody tr th:only-of-type {\n",
       "        vertical-align: middle;\n",
       "    }\n",
       "\n",
       "    .dataframe tbody tr th {\n",
       "        vertical-align: top;\n",
       "    }\n",
       "\n",
       "    .dataframe thead th {\n",
       "        text-align: right;\n",
       "    }\n",
       "</style>\n",
       "<table border=\"1\" class=\"dataframe\">\n",
       "  <thead>\n",
       "    <tr style=\"text-align: right;\">\n",
       "      <th></th>\n",
       "      <th>Date</th>\n",
       "      <th>High</th>\n",
       "      <th>Low</th>\n",
       "      <th>Open</th>\n",
       "      <th>Close</th>\n",
       "      <th>Volume</th>\n",
       "      <th>Adj Close</th>\n",
       "    </tr>\n",
       "  </thead>\n",
       "  <tbody>\n",
       "    <tr>\n",
       "      <th>0</th>\n",
       "      <td>2017-11-13</td>\n",
       "      <td>203.199997</td>\n",
       "      <td>194.210007</td>\n",
       "      <td>203.199997</td>\n",
       "      <td>195.789993</td>\n",
       "      <td>1298800.0</td>\n",
       "      <td>181.843704</td>\n",
       "    </tr>\n",
       "    <tr>\n",
       "      <th>1</th>\n",
       "      <td>2017-11-14</td>\n",
       "      <td>196.320007</td>\n",
       "      <td>191.389999</td>\n",
       "      <td>194.500000</td>\n",
       "      <td>195.580002</td>\n",
       "      <td>1028900.0</td>\n",
       "      <td>181.648666</td>\n",
       "    </tr>\n",
       "    <tr>\n",
       "      <th>2</th>\n",
       "      <td>2017-11-15</td>\n",
       "      <td>198.240005</td>\n",
       "      <td>193.500000</td>\n",
       "      <td>194.630005</td>\n",
       "      <td>195.729996</td>\n",
       "      <td>880400.0</td>\n",
       "      <td>181.787964</td>\n",
       "    </tr>\n",
       "    <tr>\n",
       "      <th>3</th>\n",
       "      <td>2017-11-16</td>\n",
       "      <td>200.610001</td>\n",
       "      <td>195.729996</td>\n",
       "      <td>195.919998</td>\n",
       "      <td>198.500000</td>\n",
       "      <td>581200.0</td>\n",
       "      <td>184.360672</td>\n",
       "    </tr>\n",
       "    <tr>\n",
       "      <th>4</th>\n",
       "      <td>2017-11-17</td>\n",
       "      <td>200.720001</td>\n",
       "      <td>196.779999</td>\n",
       "      <td>198.210007</td>\n",
       "      <td>197.820007</td>\n",
       "      <td>588500.0</td>\n",
       "      <td>183.729126</td>\n",
       "    </tr>\n",
       "  </tbody>\n",
       "</table>\n",
       "</div>"
      ],
      "text/plain": [
       "         Date        High         Low        Open       Close     Volume  \\\n",
       "0  2017-11-13  203.199997  194.210007  203.199997  195.789993  1298800.0   \n",
       "1  2017-11-14  196.320007  191.389999  194.500000  195.580002  1028900.0   \n",
       "2  2017-11-15  198.240005  193.500000  194.630005  195.729996   880400.0   \n",
       "3  2017-11-16  200.610001  195.729996  195.919998  198.500000   581200.0   \n",
       "4  2017-11-17  200.720001  196.779999  198.210007  197.820007   588500.0   \n",
       "\n",
       "    Adj Close  \n",
       "0  181.843704  \n",
       "1  181.648666  \n",
       "2  181.787964  \n",
       "3  184.360672  \n",
       "4  183.729126  "
      ]
     },
     "execution_count": 7,
     "metadata": {},
     "output_type": "execute_result"
    }
   ],
   "source": [
    "gww=pd.read_csv(\"GWW.csv\")\n",
    "gww.head()"
   ]
  },
  {
   "cell_type": "code",
   "execution_count": 14,
   "metadata": {},
   "outputs": [
    {
     "data": {
      "text/plain": [
       "(1259, 7)"
      ]
     },
     "execution_count": 14,
     "metadata": {},
     "output_type": "execute_result"
    }
   ],
   "source": [
    "gww.shape"
   ]
  },
  {
   "cell_type": "markdown",
   "metadata": {},
   "source": [
    "Part 1, 1.\n",
    "Yes, there is no difference between columns Close and Adj Close column in case of company CDNS."
   ]
  },
  {
   "cell_type": "code",
   "execution_count": 15,
   "metadata": {},
   "outputs": [
    {
     "data": {
      "text/plain": [
       "Index(['Date', 'High', 'Low', 'Open', 'Close', 'Volume', 'Adj Close'], dtype='object')"
      ]
     },
     "execution_count": 15,
     "metadata": {},
     "output_type": "execute_result"
    }
   ],
   "source": [
    "cdns.columns"
   ]
  },
  {
   "cell_type": "markdown",
   "metadata": {},
   "source": [
    "Part 1, 2."
   ]
  },
  {
   "cell_type": "code",
   "execution_count": 20,
   "metadata": {},
   "outputs": [
    {
     "name": "stdout",
     "output_type": "stream",
     "text": [
      "Highest price of CDNS is 193.08999633789065 and the lowest price is 35.849998474121094\n",
      "Highest price of GWW is 608.3800048828125 and the lowest price is 181.64866638183597\n",
      "Highest price of AES is 28.21999931335449 and the lowest price is 8.681197166442871\n"
     ]
    }
   ],
   "source": [
    "print(f\"Highest price of CDNS is\", cdns[\"Adj Close\"].max(), \"and the lowest price is\", cdns[\"Adj Close\"].min())\n",
    "print(f\"Highest price of GWW is\", gww[\"Adj Close\"].max(), \"and the lowest price is\", gww[\"Adj Close\"].min())\n",
    "print(f\"Highest price of AES is\", aes[\"Adj Close\"].max(), \"and the lowest price is\", aes[\"Adj Close\"].min())"
   ]
  },
  {
   "cell_type": "markdown",
   "metadata": {},
   "source": [
    "Part 1, 3."
   ]
  },
  {
   "cell_type": "code",
   "execution_count": 31,
   "metadata": {},
   "outputs": [
    {
     "name": "stdout",
     "output_type": "stream",
     "text": [
      "Values for CDNS:\n",
      " amin      3.579344\n",
      "amax      5.263156\n",
      "mean      4.463322\n",
      "median    4.418841\n",
      "Name: Adj Close, dtype: float64\n",
      "Values for GWW:\n",
      " amin      5.202074\n",
      "amax      6.410800\n",
      "mean      5.839432\n",
      "median    5.795869\n",
      "Name: Adj Close, dtype: float64\n",
      "Values for AES:\n",
      " amin      2.161159\n",
      "amax      3.340031\n",
      "mean      2.818596\n",
      "median    2.816965\n",
      "Name: Adj Close, dtype: float64\n"
     ]
    }
   ],
   "source": [
    "print(\"Values for CDNS:\\n\",\n",
    "np.log(cdns[\"Adj Close\"]).agg([np.min, np.max, np.mean, np.median], axis=0))\n",
    "\n",
    "print(\"Values for GWW:\\n\",\n",
    "np.log(gww[\"Adj Close\"]).agg([np.min, np.max, np.mean, np.median], axis=0))\n",
    "\n",
    "print(\"Values for AES:\\n\",\n",
    "np.log(aes[\"Adj Close\"]).agg([np.min, np.max, np.mean, np.median], axis=0))"
   ]
  },
  {
   "cell_type": "markdown",
   "metadata": {},
   "source": [
    "Part 1, 4."
   ]
  },
  {
   "cell_type": "code",
   "execution_count": 32,
   "metadata": {},
   "outputs": [],
   "source": [
    "import sklearn.metrics"
   ]
  },
  {
   "cell_type": "code",
   "execution_count": 33,
   "metadata": {},
   "outputs": [
    {
     "data": {
      "text/plain": [
       "Index(['Date', 'High', 'Low', 'Open', 'Close', 'Volume', 'Adj Close'], dtype='object')"
      ]
     },
     "execution_count": 33,
     "metadata": {},
     "output_type": "execute_result"
    }
   ],
   "source": [
    "aes.columns"
   ]
  },
  {
   "cell_type": "code",
   "execution_count": null,
   "metadata": {},
   "outputs": [],
   "source": [
    "sklearn.metrics.log_loss(aes[\"Open\"], aes[\"Close\"])"
   ]
  },
  {
   "cell_type": "code",
   "execution_count": null,
   "metadata": {},
   "outputs": [],
   "source": [
    "aes.groupby.idxmax(axis=0, skipna=True, numeric_only=False)"
   ]
  },
  {
   "cell_type": "markdown",
   "metadata": {},
   "source": [
    "Part 1, 5.\n",
    "What is the average calendar weekly volume for each company? Hint: check how to\n",
    "resample pandas DF"
   ]
  },
  {
   "cell_type": "code",
   "execution_count": null,
   "metadata": {},
   "outputs": [],
   "source": [
    "np.log()"
   ]
  }
 ],
 "metadata": {
  "kernelspec": {
   "display_name": "Python 3.9.13 ('base')",
   "language": "python",
   "name": "python3"
  },
  "language_info": {
   "codemirror_mode": {
    "name": "ipython",
    "version": 3
   },
   "file_extension": ".py",
   "mimetype": "text/x-python",
   "name": "python",
   "nbconvert_exporter": "python",
   "pygments_lexer": "ipython3",
   "version": "3.9.13"
  },
  "orig_nbformat": 4,
  "vscode": {
   "interpreter": {
    "hash": "a02a01f4637964553a3d9a76be7cbdd74d3a9321504b5f055e54f87e7bbe80de"
   }
  }
 },
 "nbformat": 4,
 "nbformat_minor": 2
}
