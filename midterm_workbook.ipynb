{
 "cells": [
  {
   "cell_type": "markdown",
   "metadata": {},
   "source": [
    "PART 1"
   ]
  },
  {
   "cell_type": "code",
   "execution_count": 171,
   "metadata": {},
   "outputs": [],
   "source": [
    "import pandas as pd\n",
    "import numpy as np"
   ]
  },
  {
   "cell_type": "code",
   "execution_count": 172,
   "metadata": {},
   "outputs": [
    {
     "data": {
      "text/html": [
       "<div>\n",
       "<style scoped>\n",
       "    .dataframe tbody tr th:only-of-type {\n",
       "        vertical-align: middle;\n",
       "    }\n",
       "\n",
       "    .dataframe tbody tr th {\n",
       "        vertical-align: top;\n",
       "    }\n",
       "\n",
       "    .dataframe thead th {\n",
       "        text-align: right;\n",
       "    }\n",
       "</style>\n",
       "<table border=\"1\" class=\"dataframe\">\n",
       "  <thead>\n",
       "    <tr style=\"text-align: right;\">\n",
       "      <th></th>\n",
       "      <th>Date</th>\n",
       "      <th>High</th>\n",
       "      <th>Low</th>\n",
       "      <th>Open</th>\n",
       "      <th>Close</th>\n",
       "      <th>Volume</th>\n",
       "      <th>Adj Close</th>\n",
       "    </tr>\n",
       "  </thead>\n",
       "  <tbody>\n",
       "    <tr>\n",
       "      <th>0</th>\n",
       "      <td>2017-11-13</td>\n",
       "      <td>10.84</td>\n",
       "      <td>10.44</td>\n",
       "      <td>10.66</td>\n",
       "      <td>10.82</td>\n",
       "      <td>8512700.0</td>\n",
       "      <td>9.232483</td>\n",
       "    </tr>\n",
       "    <tr>\n",
       "      <th>1</th>\n",
       "      <td>2017-11-14</td>\n",
       "      <td>10.97</td>\n",
       "      <td>10.74</td>\n",
       "      <td>10.84</td>\n",
       "      <td>10.84</td>\n",
       "      <td>9935600.0</td>\n",
       "      <td>9.249549</td>\n",
       "    </tr>\n",
       "    <tr>\n",
       "      <th>2</th>\n",
       "      <td>2017-11-15</td>\n",
       "      <td>10.90</td>\n",
       "      <td>10.78</td>\n",
       "      <td>10.81</td>\n",
       "      <td>10.87</td>\n",
       "      <td>6803000.0</td>\n",
       "      <td>9.275147</td>\n",
       "    </tr>\n",
       "    <tr>\n",
       "      <th>3</th>\n",
       "      <td>2017-11-16</td>\n",
       "      <td>10.92</td>\n",
       "      <td>10.73</td>\n",
       "      <td>10.91</td>\n",
       "      <td>10.77</td>\n",
       "      <td>5917000.0</td>\n",
       "      <td>9.189818</td>\n",
       "    </tr>\n",
       "    <tr>\n",
       "      <th>4</th>\n",
       "      <td>2017-11-17</td>\n",
       "      <td>10.79</td>\n",
       "      <td>10.60</td>\n",
       "      <td>10.77</td>\n",
       "      <td>10.61</td>\n",
       "      <td>7575000.0</td>\n",
       "      <td>9.053296</td>\n",
       "    </tr>\n",
       "  </tbody>\n",
       "</table>\n",
       "</div>"
      ],
      "text/plain": [
       "         Date   High    Low   Open  Close     Volume  Adj Close\n",
       "0  2017-11-13  10.84  10.44  10.66  10.82  8512700.0   9.232483\n",
       "1  2017-11-14  10.97  10.74  10.84  10.84  9935600.0   9.249549\n",
       "2  2017-11-15  10.90  10.78  10.81  10.87  6803000.0   9.275147\n",
       "3  2017-11-16  10.92  10.73  10.91  10.77  5917000.0   9.189818\n",
       "4  2017-11-17  10.79  10.60  10.77  10.61  7575000.0   9.053296"
      ]
     },
     "execution_count": 172,
     "metadata": {},
     "output_type": "execute_result"
    }
   ],
   "source": [
    "aes=pd.read_csv(\"AES.csv\")\n",
    "aes.head()"
   ]
  },
  {
   "cell_type": "code",
   "execution_count": 173,
   "metadata": {},
   "outputs": [
    {
     "data": {
      "text/plain": [
       "(1259, 7)"
      ]
     },
     "execution_count": 173,
     "metadata": {},
     "output_type": "execute_result"
    }
   ],
   "source": [
    "aes.shape"
   ]
  },
  {
   "cell_type": "code",
   "execution_count": 174,
   "metadata": {},
   "outputs": [
    {
     "data": {
      "text/html": [
       "<div>\n",
       "<style scoped>\n",
       "    .dataframe tbody tr th:only-of-type {\n",
       "        vertical-align: middle;\n",
       "    }\n",
       "\n",
       "    .dataframe tbody tr th {\n",
       "        vertical-align: top;\n",
       "    }\n",
       "\n",
       "    .dataframe thead th {\n",
       "        text-align: right;\n",
       "    }\n",
       "</style>\n",
       "<table border=\"1\" class=\"dataframe\">\n",
       "  <thead>\n",
       "    <tr style=\"text-align: right;\">\n",
       "      <th></th>\n",
       "      <th>Date</th>\n",
       "      <th>High</th>\n",
       "      <th>Low</th>\n",
       "      <th>Open</th>\n",
       "      <th>Close</th>\n",
       "      <th>Volume</th>\n",
       "      <th>Adj Close</th>\n",
       "    </tr>\n",
       "  </thead>\n",
       "  <tbody>\n",
       "    <tr>\n",
       "      <th>0</th>\n",
       "      <td>2017-11-13</td>\n",
       "      <td>44.689999</td>\n",
       "      <td>43.830002</td>\n",
       "      <td>43.830002</td>\n",
       "      <td>44.669998</td>\n",
       "      <td>1644500</td>\n",
       "      <td>44.669998</td>\n",
       "    </tr>\n",
       "    <tr>\n",
       "      <th>1</th>\n",
       "      <td>2017-11-14</td>\n",
       "      <td>44.830002</td>\n",
       "      <td>44.360001</td>\n",
       "      <td>44.520000</td>\n",
       "      <td>44.770000</td>\n",
       "      <td>2674700</td>\n",
       "      <td>44.770000</td>\n",
       "    </tr>\n",
       "    <tr>\n",
       "      <th>2</th>\n",
       "      <td>2017-11-15</td>\n",
       "      <td>44.669998</td>\n",
       "      <td>44.009998</td>\n",
       "      <td>44.520000</td>\n",
       "      <td>44.320000</td>\n",
       "      <td>1728600</td>\n",
       "      <td>44.320000</td>\n",
       "    </tr>\n",
       "    <tr>\n",
       "      <th>3</th>\n",
       "      <td>2017-11-16</td>\n",
       "      <td>45.389999</td>\n",
       "      <td>44.419998</td>\n",
       "      <td>44.570000</td>\n",
       "      <td>44.860001</td>\n",
       "      <td>3005200</td>\n",
       "      <td>44.860001</td>\n",
       "    </tr>\n",
       "    <tr>\n",
       "      <th>4</th>\n",
       "      <td>2017-11-17</td>\n",
       "      <td>45.099998</td>\n",
       "      <td>44.410000</td>\n",
       "      <td>44.869999</td>\n",
       "      <td>44.580002</td>\n",
       "      <td>1813600</td>\n",
       "      <td>44.580002</td>\n",
       "    </tr>\n",
       "  </tbody>\n",
       "</table>\n",
       "</div>"
      ],
      "text/plain": [
       "         Date       High        Low       Open      Close   Volume  Adj Close\n",
       "0  2017-11-13  44.689999  43.830002  43.830002  44.669998  1644500  44.669998\n",
       "1  2017-11-14  44.830002  44.360001  44.520000  44.770000  2674700  44.770000\n",
       "2  2017-11-15  44.669998  44.009998  44.520000  44.320000  1728600  44.320000\n",
       "3  2017-11-16  45.389999  44.419998  44.570000  44.860001  3005200  44.860001\n",
       "4  2017-11-17  45.099998  44.410000  44.869999  44.580002  1813600  44.580002"
      ]
     },
     "execution_count": 174,
     "metadata": {},
     "output_type": "execute_result"
    }
   ],
   "source": [
    "cdns=pd.read_csv(\"CDNS.csv\")\n",
    "cdns.head()"
   ]
  },
  {
   "cell_type": "code",
   "execution_count": 175,
   "metadata": {},
   "outputs": [
    {
     "data": {
      "text/plain": [
       "(1259, 7)"
      ]
     },
     "execution_count": 175,
     "metadata": {},
     "output_type": "execute_result"
    }
   ],
   "source": [
    "cdns.shape"
   ]
  },
  {
   "cell_type": "code",
   "execution_count": 176,
   "metadata": {},
   "outputs": [
    {
     "data": {
      "text/html": [
       "<div>\n",
       "<style scoped>\n",
       "    .dataframe tbody tr th:only-of-type {\n",
       "        vertical-align: middle;\n",
       "    }\n",
       "\n",
       "    .dataframe tbody tr th {\n",
       "        vertical-align: top;\n",
       "    }\n",
       "\n",
       "    .dataframe thead th {\n",
       "        text-align: right;\n",
       "    }\n",
       "</style>\n",
       "<table border=\"1\" class=\"dataframe\">\n",
       "  <thead>\n",
       "    <tr style=\"text-align: right;\">\n",
       "      <th></th>\n",
       "      <th>Date</th>\n",
       "      <th>High</th>\n",
       "      <th>Low</th>\n",
       "      <th>Open</th>\n",
       "      <th>Close</th>\n",
       "      <th>Volume</th>\n",
       "      <th>Adj Close</th>\n",
       "    </tr>\n",
       "  </thead>\n",
       "  <tbody>\n",
       "    <tr>\n",
       "      <th>0</th>\n",
       "      <td>2017-11-13</td>\n",
       "      <td>203.199997</td>\n",
       "      <td>194.210007</td>\n",
       "      <td>203.199997</td>\n",
       "      <td>195.789993</td>\n",
       "      <td>1298800.0</td>\n",
       "      <td>181.843704</td>\n",
       "    </tr>\n",
       "    <tr>\n",
       "      <th>1</th>\n",
       "      <td>2017-11-14</td>\n",
       "      <td>196.320007</td>\n",
       "      <td>191.389999</td>\n",
       "      <td>194.500000</td>\n",
       "      <td>195.580002</td>\n",
       "      <td>1028900.0</td>\n",
       "      <td>181.648666</td>\n",
       "    </tr>\n",
       "    <tr>\n",
       "      <th>2</th>\n",
       "      <td>2017-11-15</td>\n",
       "      <td>198.240005</td>\n",
       "      <td>193.500000</td>\n",
       "      <td>194.630005</td>\n",
       "      <td>195.729996</td>\n",
       "      <td>880400.0</td>\n",
       "      <td>181.787964</td>\n",
       "    </tr>\n",
       "    <tr>\n",
       "      <th>3</th>\n",
       "      <td>2017-11-16</td>\n",
       "      <td>200.610001</td>\n",
       "      <td>195.729996</td>\n",
       "      <td>195.919998</td>\n",
       "      <td>198.500000</td>\n",
       "      <td>581200.0</td>\n",
       "      <td>184.360672</td>\n",
       "    </tr>\n",
       "    <tr>\n",
       "      <th>4</th>\n",
       "      <td>2017-11-17</td>\n",
       "      <td>200.720001</td>\n",
       "      <td>196.779999</td>\n",
       "      <td>198.210007</td>\n",
       "      <td>197.820007</td>\n",
       "      <td>588500.0</td>\n",
       "      <td>183.729126</td>\n",
       "    </tr>\n",
       "  </tbody>\n",
       "</table>\n",
       "</div>"
      ],
      "text/plain": [
       "         Date        High         Low        Open       Close     Volume  \\\n",
       "0  2017-11-13  203.199997  194.210007  203.199997  195.789993  1298800.0   \n",
       "1  2017-11-14  196.320007  191.389999  194.500000  195.580002  1028900.0   \n",
       "2  2017-11-15  198.240005  193.500000  194.630005  195.729996   880400.0   \n",
       "3  2017-11-16  200.610001  195.729996  195.919998  198.500000   581200.0   \n",
       "4  2017-11-17  200.720001  196.779999  198.210007  197.820007   588500.0   \n",
       "\n",
       "    Adj Close  \n",
       "0  181.843704  \n",
       "1  181.648666  \n",
       "2  181.787964  \n",
       "3  184.360672  \n",
       "4  183.729126  "
      ]
     },
     "execution_count": 176,
     "metadata": {},
     "output_type": "execute_result"
    }
   ],
   "source": [
    "gww=pd.read_csv(\"GWW.csv\")\n",
    "gww.head()"
   ]
  },
  {
   "cell_type": "code",
   "execution_count": 177,
   "metadata": {},
   "outputs": [
    {
     "data": {
      "text/plain": [
       "(1259, 7)"
      ]
     },
     "execution_count": 177,
     "metadata": {},
     "output_type": "execute_result"
    }
   ],
   "source": [
    "gww.shape"
   ]
  },
  {
   "cell_type": "markdown",
   "metadata": {},
   "source": [
    "Part 1, 1.\n",
    "Yes, there is no difference between columns Close and Adj Close column in case of company CDNS."
   ]
  },
  {
   "cell_type": "code",
   "execution_count": 178,
   "metadata": {},
   "outputs": [
    {
     "data": {
      "text/plain": [
       "Index(['Date', 'High', 'Low', 'Open', 'Close', 'Volume', 'Adj Close'], dtype='object')"
      ]
     },
     "execution_count": 178,
     "metadata": {},
     "output_type": "execute_result"
    }
   ],
   "source": [
    "cdns.columns"
   ]
  },
  {
   "cell_type": "markdown",
   "metadata": {},
   "source": [
    "Part 1, 2."
   ]
  },
  {
   "cell_type": "code",
   "execution_count": 179,
   "metadata": {},
   "outputs": [
    {
     "name": "stdout",
     "output_type": "stream",
     "text": [
      "Highest price of CDNS is 193.08999633789065 and the lowest price is 35.849998474121094\n",
      "Highest price of GWW is 608.3800048828125 and the lowest price is 181.64866638183597\n",
      "Highest price of AES is 28.21999931335449 and the lowest price is 8.681197166442871\n"
     ]
    }
   ],
   "source": [
    "print(f\"Highest price of CDNS is\", cdns[\"Adj Close\"].max(), \"and the lowest price is\", cdns[\"Adj Close\"].min())\n",
    "print(f\"Highest price of GWW is\", gww[\"Adj Close\"].max(), \"and the lowest price is\", gww[\"Adj Close\"].min())\n",
    "print(f\"Highest price of AES is\", aes[\"Adj Close\"].max(), \"and the lowest price is\", aes[\"Adj Close\"].min())"
   ]
  },
  {
   "cell_type": "markdown",
   "metadata": {},
   "source": [
    "Part 1, 3."
   ]
  },
  {
   "cell_type": "code",
   "execution_count": 180,
   "metadata": {},
   "outputs": [
    {
     "name": "stdout",
     "output_type": "stream",
     "text": [
      "Values for CDNS:\n",
      " amin      3.579344\n",
      "amax      5.263156\n",
      "mean      4.463322\n",
      "median    4.418841\n",
      "Name: Adj Close, dtype: float64\n",
      "Values for GWW:\n",
      " amin      5.202074\n",
      "amax      6.410800\n",
      "mean      5.839432\n",
      "median    5.795869\n",
      "Name: Adj Close, dtype: float64\n",
      "Values for AES:\n",
      " amin      2.161159\n",
      "amax      3.340031\n",
      "mean      2.818596\n",
      "median    2.816965\n",
      "Name: Adj Close, dtype: float64\n"
     ]
    }
   ],
   "source": [
    "print(\"Values for CDNS:\\n\",\n",
    "np.log(cdns[\"Adj Close\"]).agg([np.min, np.max, np.mean, np.median], axis=0))\n",
    "\n",
    "print(\"Values for GWW:\\n\",\n",
    "np.log(gww[\"Adj Close\"]).agg([np.min, np.max, np.mean, np.median], axis=0))\n",
    "\n",
    "print(\"Values for AES:\\n\",\n",
    "np.log(aes[\"Adj Close\"]).agg([np.min, np.max, np.mean, np.median], axis=0))"
   ]
  },
  {
   "cell_type": "markdown",
   "metadata": {},
   "source": [
    "Part 1, 4."
   ]
  },
  {
   "cell_type": "code",
   "execution_count": 181,
   "metadata": {},
   "outputs": [],
   "source": [
    "import sklearn.metrics"
   ]
  },
  {
   "cell_type": "code",
   "execution_count": 182,
   "metadata": {},
   "outputs": [
    {
     "data": {
      "text/plain": [
       "Index(['Date', 'High', 'Low', 'Open', 'Close', 'Volume', 'Adj Close'], dtype='object')"
      ]
     },
     "execution_count": 182,
     "metadata": {},
     "output_type": "execute_result"
    }
   ],
   "source": [
    "aes.columns"
   ]
  },
  {
   "cell_type": "code",
   "execution_count": 183,
   "metadata": {},
   "outputs": [],
   "source": [
    "#sklearn.metrics.log_loss(aes[\"Open\"], aes[\"Close\"])"
   ]
  },
  {
   "cell_type": "code",
   "execution_count": 184,
   "metadata": {},
   "outputs": [],
   "source": [
    "#aes.groupby.idxmax(axis=0, skipna=True, numeric_only=False)"
   ]
  },
  {
   "cell_type": "markdown",
   "metadata": {},
   "source": [
    "Part 1, 5.\n",
    "What is the average calendar weekly volume for each company? Hint: check how to\n",
    "resample pandas DF"
   ]
  },
  {
   "cell_type": "code",
   "execution_count": 185,
   "metadata": {},
   "outputs": [
    {
     "data": {
      "text/plain": [
       "Date          object\n",
       "High         float64\n",
       "Low          float64\n",
       "Open         float64\n",
       "Close        float64\n",
       "Volume       float64\n",
       "Adj Close    float64\n",
       "dtype: object"
      ]
     },
     "execution_count": 185,
     "metadata": {},
     "output_type": "execute_result"
    }
   ],
   "source": [
    "aes.dtypes"
   ]
  },
  {
   "cell_type": "code",
   "execution_count": 186,
   "metadata": {},
   "outputs": [],
   "source": [
    "aes['Date']= pd.to_datetime(aes['Date'])\n",
    "gww['Date']= pd.to_datetime(gww['Date'])\n",
    "cdns['Date']= pd.to_datetime(cdns['Date'])"
   ]
  },
  {
   "cell_type": "code",
   "execution_count": 187,
   "metadata": {},
   "outputs": [],
   "source": [
    "aes[\"Week\"]=aes['Date'].dt.isocalendar().week\n",
    "gww[\"Week\"]=cdns['Date'].dt.isocalendar().week\n",
    "cdns[\"Week\"]=cdns['Date'].dt.isocalendar().week"
   ]
  },
  {
   "cell_type": "code",
   "execution_count": 188,
   "metadata": {},
   "outputs": [
    {
     "name": "stdout",
     "output_type": "stream",
     "text": [
      "Average weekly volume for AES is: 5947133.0138712805\n",
      "Average weekly volume for GWW is: 436097.95601568243\n",
      "Average weekly volume for CDNS is: 1835453.9685463565\n"
     ]
    }
   ],
   "source": [
    "print(\"Average weekly volume for AES is:\", aes.groupby([\"Week\"]).Volume.mean().mean())\n",
    "print(\"Average weekly volume for GWW is:\", gww.groupby([\"Week\"]).Volume.mean().mean())\n",
    "print(\"Average weekly volume for CDNS is:\", cdns.groupby([\"Week\"]).Volume.mean().mean())"
   ]
  },
  {
   "cell_type": "markdown",
   "metadata": {},
   "source": [
    "Part 1, 6.\n",
    "Which company recorded the highest total return over the whole period?"
   ]
  },
  {
   "cell_type": "markdown",
   "metadata": {},
   "source": [
    "Part 1, 7.\n",
    "Plot the log-returns of the companies (ideally in the same plot)"
   ]
  },
  {
   "cell_type": "code",
   "execution_count": 189,
   "metadata": {},
   "outputs": [],
   "source": [
    "aes[\"log_return\"]=np.log(aes[\"Close\"]/aes[\"Open\"])\n",
    "gww[\"log_return\"]=np.log(gww[\"Close\"]/gww[\"Open\"])\n",
    "cdns[\"log_return\"]=np.log(cdns[\"Close\"]/cdns[\"Open\"])\n"
   ]
  },
  {
   "cell_type": "code",
   "execution_count": 190,
   "metadata": {},
   "outputs": [
    {
     "data": {
      "image/png": "[encoded data removed]",
      "text/plain": [
       "<Figure size 640x480 with 1 Axes>"
      ]
     },
     "metadata": {},
     "output_type": "display_data"
    }
   ],
   "source": [
    "import matplotlib.pyplot as plt\n",
    "plt.plot(aes[\"Date\"], aes[\"log_return\"], label = \"AES\")\n",
    "plt.plot(gww[\"Date\"], gww[\"log_return\"], label = \"GWW\")\n",
    "plt.plot(cdns[\"Date\"], cdns[\"log_return\"], label = \"CDNS\")\n",
    "plt.legend()\n",
    "plt.show()"
   ]
  },
  {
   "cell_type": "markdown",
   "metadata": {},
   "source": [
    "Part 1, 8.\n",
    "Show the log-return distribution of the companies (ideally in the same plot)"
   ]
  },
  {
   "cell_type": "code",
   "execution_count": 191,
   "metadata": {},
   "outputs": [
    {
     "data": {
      "text/plain": [
       "Index(['Date', 'High', 'Low', 'Open', 'Close', 'Volume', 'Adj Close', 'Week',\n",
       "       'log_return'],\n",
       "      dtype='object')"
      ]
     },
     "execution_count": 191,
     "metadata": {},
     "output_type": "execute_result"
    }
   ],
   "source": [
    "aes.columns"
   ]
  },
  {
   "cell_type": "code",
   "execution_count": 192,
   "metadata": {},
   "outputs": [
    {
     "data": {
      "image/png": "[encoded data removed]",
      "text/plain": [
       "<Figure size 640x480 with 1 Axes>"
      ]
     },
     "metadata": {},
     "output_type": "display_data"
    }
   ],
   "source": [
    "x=aes[\"log_return\"]\n",
    "y=cdns[\"log_return\"]\n",
    "z=gww[\"log_return\"]\n",
    "plt.hist([x, y, z], 40, label=['AES', 'CDNS', \"GWW\"])\n",
    "plt.legend(loc='upper right')\n",
    "plt.show()"
   ]
  },
  {
   "cell_type": "markdown",
   "metadata": {},
   "source": [
    "Part 2"
   ]
  },
  {
   "cell_type": "markdown",
   "metadata": {},
   "source": [
    "1. Find out how many companies do not filled-in the date of inclusion (column “included”) to S&P 500.\n",
    "2. Delete the companies with no inclusion date and calculate which company is the oldest/youngest constituent and tell us the average age of a constituent in the sample. If you need to fix anything or make any assumptions, comment on them in the code.\n",
    "Hint: pd.to_datetime (some date column, dayfirst=True,errors='coerce')\n",
    "3. Describe the distribution of companies across sectors and create a plot that\n",
    "demonstrates the proportionality of the sectors (i.e. pie plot, or something like this)\n",
    "4. Parse the “hq” column, extract the state of the hq and describe the distribution of the\n",
    "states\n",
    "5. Join the dataset with this one: https://ies-python-midterm.s3.eu-central-\n",
    "1.amazonaws.com/companies/companies_subindustry.csv\n",
    "And join the two datasets based on an appropriate key. Report on distribution of subindustries for the “Consumer Discretionary” GICS sector."
   ]
  },
  {
   "cell_type": "code",
   "execution_count": 193,
   "metadata": {},
   "outputs": [
    {
     "data": {
      "text/html": [
       "<div>\n",
       "<style scoped>\n",
       "    .dataframe tbody tr th:only-of-type {\n",
       "        vertical-align: middle;\n",
       "    }\n",
       "\n",
       "    .dataframe tbody tr th {\n",
       "        vertical-align: top;\n",
       "    }\n",
       "\n",
       "    .dataframe thead th {\n",
       "        text-align: right;\n",
       "    }\n",
       "</style>\n",
       "<table border=\"1\" class=\"dataframe\">\n",
       "  <thead>\n",
       "    <tr style=\"text-align: right;\">\n",
       "      <th></th>\n",
       "      <th>Symbol</th>\n",
       "      <th>Security</th>\n",
       "      <th>GICS Sector</th>\n",
       "      <th>hq</th>\n",
       "      <th>included</th>\n",
       "      <th>Founded</th>\n",
       "    </tr>\n",
       "  </thead>\n",
       "  <tbody>\n",
       "    <tr>\n",
       "      <th>0</th>\n",
       "      <td>MMM</td>\n",
       "      <td>3M</td>\n",
       "      <td>Industrials</td>\n",
       "      <td>Saint Paul, Minnesota</td>\n",
       "      <td>09.08.1976</td>\n",
       "      <td>1902</td>\n",
       "    </tr>\n",
       "    <tr>\n",
       "      <th>1</th>\n",
       "      <td>AOS</td>\n",
       "      <td>A. O. Smith</td>\n",
       "      <td>Industrials</td>\n",
       "      <td>Milwaukee, Wisconsin</td>\n",
       "      <td>26.07.2017</td>\n",
       "      <td>1916</td>\n",
       "    </tr>\n",
       "    <tr>\n",
       "      <th>2</th>\n",
       "      <td>ABT</td>\n",
       "      <td>Abbott</td>\n",
       "      <td>Health Care</td>\n",
       "      <td>North Chicago, Illinois</td>\n",
       "      <td>31.03.1964</td>\n",
       "      <td>1888</td>\n",
       "    </tr>\n",
       "    <tr>\n",
       "      <th>3</th>\n",
       "      <td>ABBV</td>\n",
       "      <td>AbbVie</td>\n",
       "      <td>Health Care</td>\n",
       "      <td>North Chicago, Illinois</td>\n",
       "      <td>31.12.2012</td>\n",
       "      <td>2013 (1888)</td>\n",
       "    </tr>\n",
       "    <tr>\n",
       "      <th>4</th>\n",
       "      <td>ABMD</td>\n",
       "      <td>Abiomed</td>\n",
       "      <td>Health Care</td>\n",
       "      <td>Danvers, Massachusetts</td>\n",
       "      <td>31.05.2018</td>\n",
       "      <td>1981</td>\n",
       "    </tr>\n",
       "  </tbody>\n",
       "</table>\n",
       "</div>"
      ],
      "text/plain": [
       "  Symbol     Security  GICS Sector                       hq    included  \\\n",
       "0    MMM           3M  Industrials    Saint Paul, Minnesota  09.08.1976   \n",
       "1    AOS  A. O. Smith  Industrials     Milwaukee, Wisconsin  26.07.2017   \n",
       "2    ABT       Abbott  Health Care  North Chicago, Illinois  31.03.1964   \n",
       "3   ABBV       AbbVie  Health Care  North Chicago, Illinois  31.12.2012   \n",
       "4   ABMD      Abiomed  Health Care   Danvers, Massachusetts  31.05.2018   \n",
       "\n",
       "       Founded  \n",
       "0         1902  \n",
       "1         1916  \n",
       "2         1888  \n",
       "3  2013 (1888)  \n",
       "4         1981  "
      ]
     },
     "execution_count": 193,
     "metadata": {},
     "output_type": "execute_result"
    }
   ],
   "source": [
    "dta=pd.read_csv(\"https://ies-python-midterm.s3.eu-central-1.amazonaws.com/companies/companies_no_subindustry.csv\")\n",
    "dta.head()"
   ]
  },
  {
   "cell_type": "markdown",
   "metadata": {},
   "source": [
    "Part 2, 1."
   ]
  },
  {
   "cell_type": "code",
   "execution_count": 194,
   "metadata": {},
   "outputs": [
    {
     "name": "stdout",
     "output_type": "stream",
     "text": [
      "45  companies have not filled in the date of inclusion\n"
     ]
    }
   ],
   "source": [
    "print(dta[\"included\"].isnull().sum(), \" companies have not filled in the date of inclusion\")"
   ]
  },
  {
   "cell_type": "markdown",
   "metadata": {},
   "source": [
    "Part 2, 2."
   ]
  },
  {
   "cell_type": "code",
   "execution_count": 199,
   "metadata": {},
   "outputs": [],
   "source": [
    "dta_clean=dta[~dta[\"included\"].isnull()]"
   ]
  },
  {
   "cell_type": "code",
   "execution_count": 206,
   "metadata": {},
   "outputs": [
    {
     "name": "stdout",
     "output_type": "stream",
     "text": [
      "Oldest constituent:  163    Eastman Chemical Company\n",
      "Name: Security, dtype: object\n",
      "Youngest constituent:  3    AbbVie\n",
      "Name: Security, dtype: object\n"
     ]
    }
   ],
   "source": [
    "print(\"Oldest constituent: \", dta_clean[\"Security\"][dta_clean[\"included\"]==dta_clean[\"included\"].min()])\n",
    "print(\"Youngest constituent: \", dta_clean[\"Security\"][dta_clean[\"included\"]==dta_clean[\"included\"].max()])"
   ]
  },
  {
   "cell_type": "markdown",
   "metadata": {},
   "source": [
    "Part 2, 3. Describe the distribution of companies across sectors and create a plot that\n",
    "demonstrates the proportionality of the sectors (i.e. pie plot, or something like this)"
   ]
  },
  {
   "cell_type": "code",
   "execution_count": 218,
   "metadata": {},
   "outputs": [
    {
     "data": {
      "text/plain": [
       "Index(['Symbol', 'Security', 'GICS Sector', 'hq', 'included', 'Founded'], dtype='object')"
      ]
     },
     "execution_count": 218,
     "metadata": {},
     "output_type": "execute_result"
    }
   ],
   "source": [
    "dta_clean.columns\n"
   ]
  },
  {
   "cell_type": "code",
   "execution_count": 219,
   "metadata": {},
   "outputs": [
    {
     "data": {
      "text/plain": [
       "Symbol         object\n",
       "Security       object\n",
       "GICS Sector    object\n",
       "hq             object\n",
       "included       object\n",
       "Founded        object\n",
       "dtype: object"
      ]
     },
     "execution_count": 219,
     "metadata": {},
     "output_type": "execute_result"
    }
   ],
   "source": [
    "dta_clean.dtypes"
   ]
  },
  {
   "cell_type": "code",
   "execution_count": 220,
   "metadata": {},
   "outputs": [
    {
     "ename": "KeyError",
     "evalue": "'GICS Sector'",
     "output_type": "error",
     "traceback": [
      "\u001b[0;31m---------------------------------------------------------------------------\u001b[0m",
      "\u001b[0;31mKeyError\u001b[0m                                  Traceback (most recent call last)",
      "\u001b[1;32m/Users/vojtechkania/Desktop/midterm_2022/midterm_workbook.ipynb Cell 43\u001b[0m in \u001b[0;36m<cell line: 1>\u001b[0;34m()\u001b[0m\n\u001b[0;32m----> <a href='vscode-notebook-cell:/Users/vojtechkania/Desktop/midterm_2022/midterm_workbook.ipynb#X64sZmlsZQ%3D%3D?line=0'>1</a>\u001b[0m dta_clean\u001b[39m.\u001b[39;49mgroupby([\u001b[39m'\u001b[39;49m\u001b[39mGICS Sector\u001b[39;49m\u001b[39m'\u001b[39;49m])\n",
      "File \u001b[0;32m~/opt/anaconda3/lib/python3.9/site-packages/pandas/core/frame.py:7721\u001b[0m, in \u001b[0;36mDataFrame.groupby\u001b[0;34m(self, by, axis, level, as_index, sort, group_keys, squeeze, observed, dropna)\u001b[0m\n\u001b[1;32m   7716\u001b[0m axis \u001b[39m=\u001b[39m \u001b[39mself\u001b[39m\u001b[39m.\u001b[39m_get_axis_number(axis)\n\u001b[1;32m   7718\u001b[0m \u001b[39m# https://github.com/python/mypy/issues/7642\u001b[39;00m\n\u001b[1;32m   7719\u001b[0m \u001b[39m# error: Argument \"squeeze\" to \"DataFrameGroupBy\" has incompatible type\u001b[39;00m\n\u001b[1;32m   7720\u001b[0m \u001b[39m# \"Union[bool, NoDefault]\"; expected \"bool\"\u001b[39;00m\n\u001b[0;32m-> 7721\u001b[0m \u001b[39mreturn\u001b[39;00m DataFrameGroupBy(\n\u001b[1;32m   7722\u001b[0m     obj\u001b[39m=\u001b[39;49m\u001b[39mself\u001b[39;49m,\n\u001b[1;32m   7723\u001b[0m     keys\u001b[39m=\u001b[39;49mby,\n\u001b[1;32m   7724\u001b[0m     axis\u001b[39m=\u001b[39;49maxis,\n\u001b[1;32m   7725\u001b[0m     level\u001b[39m=\u001b[39;49mlevel,\n\u001b[1;32m   7726\u001b[0m     as_index\u001b[39m=\u001b[39;49mas_index,\n\u001b[1;32m   7727\u001b[0m     sort\u001b[39m=\u001b[39;49msort,\n\u001b[1;32m   7728\u001b[0m     group_keys\u001b[39m=\u001b[39;49mgroup_keys,\n\u001b[1;32m   7729\u001b[0m     squeeze\u001b[39m=\u001b[39;49msqueeze,  \u001b[39m# type: ignore[arg-type]\u001b[39;49;00m\n\u001b[1;32m   7730\u001b[0m     observed\u001b[39m=\u001b[39;49mobserved,\n\u001b[1;32m   7731\u001b[0m     dropna\u001b[39m=\u001b[39;49mdropna,\n\u001b[1;32m   7732\u001b[0m )\n",
      "File \u001b[0;32m~/opt/anaconda3/lib/python3.9/site-packages/pandas/core/groupby/groupby.py:882\u001b[0m, in \u001b[0;36mGroupBy.__init__\u001b[0;34m(self, obj, keys, axis, level, grouper, exclusions, selection, as_index, sort, group_keys, squeeze, observed, mutated, dropna)\u001b[0m\n\u001b[1;32m    879\u001b[0m \u001b[39mif\u001b[39;00m grouper \u001b[39mis\u001b[39;00m \u001b[39mNone\u001b[39;00m:\n\u001b[1;32m    880\u001b[0m     \u001b[39mfrom\u001b[39;00m \u001b[39mpandas\u001b[39;00m\u001b[39m.\u001b[39;00m\u001b[39mcore\u001b[39;00m\u001b[39m.\u001b[39;00m\u001b[39mgroupby\u001b[39;00m\u001b[39m.\u001b[39;00m\u001b[39mgrouper\u001b[39;00m \u001b[39mimport\u001b[39;00m get_grouper\n\u001b[0;32m--> 882\u001b[0m     grouper, exclusions, obj \u001b[39m=\u001b[39m get_grouper(\n\u001b[1;32m    883\u001b[0m         obj,\n\u001b[1;32m    884\u001b[0m         keys,\n\u001b[1;32m    885\u001b[0m         axis\u001b[39m=\u001b[39;49maxis,\n\u001b[1;32m    886\u001b[0m         level\u001b[39m=\u001b[39;49mlevel,\n\u001b[1;32m    887\u001b[0m         sort\u001b[39m=\u001b[39;49msort,\n\u001b[1;32m    888\u001b[0m         observed\u001b[39m=\u001b[39;49mobserved,\n\u001b[1;32m    889\u001b[0m         mutated\u001b[39m=\u001b[39;49m\u001b[39mself\u001b[39;49m\u001b[39m.\u001b[39;49mmutated,\n\u001b[1;32m    890\u001b[0m         dropna\u001b[39m=\u001b[39;49m\u001b[39mself\u001b[39;49m\u001b[39m.\u001b[39;49mdropna,\n\u001b[1;32m    891\u001b[0m     )\n\u001b[1;32m    893\u001b[0m \u001b[39mself\u001b[39m\u001b[39m.\u001b[39mobj \u001b[39m=\u001b[39m obj\n\u001b[1;32m    894\u001b[0m \u001b[39mself\u001b[39m\u001b[39m.\u001b[39maxis \u001b[39m=\u001b[39m obj\u001b[39m.\u001b[39m_get_axis_number(axis)\n",
      "File \u001b[0;32m~/opt/anaconda3/lib/python3.9/site-packages/pandas/core/groupby/grouper.py:882\u001b[0m, in \u001b[0;36mget_grouper\u001b[0;34m(obj, key, axis, level, sort, observed, mutated, validate, dropna)\u001b[0m\n\u001b[1;32m    880\u001b[0m         in_axis, level, gpr \u001b[39m=\u001b[39m \u001b[39mFalse\u001b[39;00m, gpr, \u001b[39mNone\u001b[39;00m\n\u001b[1;32m    881\u001b[0m     \u001b[39melse\u001b[39;00m:\n\u001b[0;32m--> 882\u001b[0m         \u001b[39mraise\u001b[39;00m \u001b[39mKeyError\u001b[39;00m(gpr)\n\u001b[1;32m    883\u001b[0m \u001b[39melif\u001b[39;00m \u001b[39misinstance\u001b[39m(gpr, Grouper) \u001b[39mand\u001b[39;00m gpr\u001b[39m.\u001b[39mkey \u001b[39mis\u001b[39;00m \u001b[39mnot\u001b[39;00m \u001b[39mNone\u001b[39;00m:\n\u001b[1;32m    884\u001b[0m     \u001b[39m# Add key to exclusions\u001b[39;00m\n\u001b[1;32m    885\u001b[0m     exclusions\u001b[39m.\u001b[39madd(gpr\u001b[39m.\u001b[39mkey)\n",
      "\u001b[0;31mKeyError\u001b[0m: 'GICS Sector'"
     ]
    }
   ],
   "source": [
    "dta_clean.groupby(['GICS Sector'])"
   ]
  }
 ],
 "metadata": {
  "kernelspec": {
   "display_name": "Python 3.9.13 ('base')",
   "language": "python",
   "name": "python3"
  },
  "language_info": {
   "codemirror_mode": {
    "name": "ipython",
    "version": 3
   },
   "file_extension": ".py",
   "mimetype": "text/x-python",
   "name": "python",
   "nbconvert_exporter": "python",
   "pygments_lexer": "ipython3",
   "version": "3.9.13"
  },
  "orig_nbformat": 4,
  "vscode": {
   "interpreter": {
    "hash": "a02a01f4637964553a3d9a76be7cbdd74d3a9321504b5f055e54f87e7bbe80de"
   }
  }
 },
 "nbformat": 4,
 "nbformat_minor": 2
}
